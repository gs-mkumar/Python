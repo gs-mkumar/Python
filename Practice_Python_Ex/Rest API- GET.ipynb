{
 "cells": [
  {
   "cell_type": "code",
   "execution_count": null,
   "metadata": {
    "collapsed": false
   },
   "outputs": [],
   "source": [
    "#from flask import Flask, request\n",
    "#from flask_restful import Resource, Api\n",
    "#from sqlalchemy import create_engine\n",
    "#from json import dumps\n",
    "#from flask.ext.jsonpify import jsonify\n",
    "#from flask import Response"
   ]
  },
  {
   "cell_type": "code",
   "execution_count": null,
   "metadata": {
    "collapsed": false
   },
   "outputs": [],
   "source": [
    "import psycopg2,json\n",
    "from flask import Flask, jsonify, request\n",
    "from flask import Response\n",
    "import pandas as pd\n",
    "#from flask.ext.pymongo import PyMongo\n",
    "\n",
    "app = Flask(__name__)\n",
    "\n",
    "try:\n",
    "    conn = psycopg2.connect(\"dbname='df56ied5o60a1s' user='u9dre01cssf0rl' host='ec2-54-243-128-10.compute-1.amazonaws.com' port='5442' password='p4d49f1cce6ed7a5560c0f33b809e3e9a8eaec849ba9574b6f9d8f3f87235a167'\")\n",
    "except:\n",
    "    print \"I am unable to connect to the database\"\n",
    "\n",
    "#This method is for basic response\n",
    "@app.route('/', methods=['GET'])\n",
    "def test():\n",
    "    return jsonify({'message':'Basic message for Rest API'}) \n",
    "\n",
    "#This will return all the names \n",
    "#using dataframe to return data\n",
    "@app.route('/name', methods=['GET'])\n",
    "def get_name():\n",
    "    #conn = psycopg2.connect(\"dbname='df56ied5o60a1s' user='u9dre01cssf0rl' host='ec2-54-243-128-10.compute-1.amazonaws.com' port='5442' password='p4d49f1cce6ed7a5560c0f33b809e3e9a8eaec849ba9574b6f9d8f3f87235a167'\")\n",
    "    cur =conn.cursor()\n",
    "    cur.execute(\"\"\"SELECT name from employee\"\"\")\n",
    "    row=cur.fetchall()\n",
    "    col_names = [i[0] for i in cur.description]\n",
    "    data=pd.DataFrame(row, columns=col_names)  \n",
    "    return data['name'].to_json() #Response(  json.dumps(row),  mimetype='application/json')\n",
    "\n",
    "#Get all the data from table\n",
    "@app.route('/table', methods=['GET'])\n",
    "def get_table_Dataframe():\n",
    "    #conn = psycopg2.connect(\"dbname='df56ied5o60a1s' user='u9dre01cssf0rl' host='ec2-54-243-128-10.compute-1.amazonaws.com' port='5442' password='p4d49f1cce6ed7a5560c0f33b809e3e9a8eaec849ba9574b6f9d8f3f87235a167'\")\n",
    "    cur =conn.cursor()\n",
    "    cur.execute(\"\"\"SELECT * from employee\"\"\")\n",
    "    row=cur.fetchall()\n",
    "    col_names = [i[0] for i in cur.description]\n",
    "    data=pd.DataFrame(row, columns=col_names)  \n",
    "    return data.to_json()\n",
    "\n",
    "#return complete table in JSON format\n",
    "@app.route('/table_json', methods=['GET'])\n",
    "def get_table():\n",
    "    #conn = psycopg2.connect(\"dbname='df56ied5o60a1s' user='u9dre01cssf0rl' host='ec2-54-243-128-10.compute-1.amazonaws.com' port='5442' password='p4d49f1cce6ed7a5560c0f33b809e3e9a8eaec849ba9574b6f9d8f3f87235a167'\")\n",
    "    cur =conn.cursor()\n",
    "    cur.execute(\"\"\"SELECT * from employee\"\"\")\n",
    "    row=cur.fetchall()\n",
    "    col_names = [i[0] for i in cur.description]\n",
    "    #data=pd.DataFrame(row, columns=col_names)  \n",
    "    result=[]\n",
    "    for record in row:\n",
    "        result.append(dict(zip(col_names,record)))\n",
    "    return json.dumps(result, indent=2)\n",
    "\n",
    "if __name__ == '__main__':\n",
    "    app.run(debug=False,port=8040)"
   ]
  },
  {
   "cell_type": "markdown",
   "metadata": {},
   "source": [
    "Use this link: http://127.0.0.1:8040/\n",
    "to see the output. and ..../name   .../table etc for different results"
   ]
  },
  {
   "cell_type": "code",
   "execution_count": null,
   "metadata": {
    "collapsed": true
   },
   "outputs": [],
   "source": []
  }
 ],
 "metadata": {
  "kernelspec": {
   "display_name": "Python 2",
   "language": "python",
   "name": "python2"
  },
  "language_info": {
   "codemirror_mode": {
    "name": "ipython",
    "version": 2
   },
   "file_extension": ".py",
   "mimetype": "text/x-python",
   "name": "python",
   "nbconvert_exporter": "python",
   "pygments_lexer": "ipython2",
   "version": "2.7.13"
  }
 },
 "nbformat": 4,
 "nbformat_minor": 2
}
